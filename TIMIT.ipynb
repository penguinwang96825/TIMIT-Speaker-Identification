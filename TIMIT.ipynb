{
 "cells": [
  {
   "cell_type": "code",
   "execution_count": 1,
   "id": "60f87281",
   "metadata": {
    "ExecuteTime": {
     "end_time": "2021-06-07T00:38:06.300188Z",
     "start_time": "2021-06-07T00:38:05.041514Z"
    }
   },
   "outputs": [],
   "source": [
    "import math\n",
    "import torch\n",
    "import torch.nn as nn\n",
    "import pandas as pd\n",
    "import numpy as np\n",
    "import matplotlib.pyplot as plt\n",
    "from scipy.io import wavfile\n",
    "from tqdm.auto import tqdm\n",
    "from sklearn import metrics\n",
    "from collections import OrderedDict\n",
    "torch.manual_seed(914)\n",
    "torch.backends.cudnn.deterministic = True\n",
    "torch.backends.cudnn.benchmark = False"
   ]
  },
  {
   "cell_type": "markdown",
   "id": "cfb5abd4",
   "metadata": {},
   "source": [
    "# Load TIMIT Dataset"
   ]
  },
  {
   "cell_type": "code",
   "execution_count": 2,
   "id": "e7148035",
   "metadata": {
    "ExecuteTime": {
     "end_time": "2021-06-07T00:38:07.624425Z",
     "start_time": "2021-06-07T00:38:06.301116Z"
    }
   },
   "outputs": [
    {
     "name": "stderr",
     "output_type": "stream",
     "text": [
      "Reusing dataset timit_asr (C:\\Users\\Yang\\.cache\\huggingface\\datasets\\timit_asr\\clean\\2.0.1\\0d9aa986fc12e3ae76626fd6f835256125ec71c3af4680826359e7e8a98a8176)\n"
     ]
    }
   ],
   "source": [
    "from datasets import load_dataset\n",
    "\n",
    "timit = load_dataset('timit_asr')"
   ]
  },
  {
   "cell_type": "code",
   "execution_count": 3,
   "id": "05825317",
   "metadata": {
    "ExecuteTime": {
     "end_time": "2021-06-07T00:38:07.659332Z",
     "start_time": "2021-06-07T00:38:07.625390Z"
    }
   },
   "outputs": [],
   "source": [
    "timit_train_df = timit[\"train\"].to_pandas()\n",
    "timit_test_df = timit[\"test\"].to_pandas()"
   ]
  },
  {
   "cell_type": "code",
   "execution_count": 4,
   "id": "65cf8247",
   "metadata": {
    "ExecuteTime": {
     "end_time": "2021-06-07T00:38:07.665295Z",
     "start_time": "2021-06-07T00:38:07.660297Z"
    }
   },
   "outputs": [
    {
     "data": {
      "text/plain": [
       "((4620, 8), (1680, 8))"
      ]
     },
     "execution_count": 4,
     "metadata": {},
     "output_type": "execute_result"
    }
   ],
   "source": [
    "timit_train_df.shape, timit_test_df.shape"
   ]
  },
  {
   "cell_type": "code",
   "execution_count": 5,
   "id": "a2c44c66",
   "metadata": {
    "ExecuteTime": {
     "end_time": "2021-06-07T00:38:07.699197Z",
     "start_time": "2021-06-07T00:38:07.666281Z"
    }
   },
   "outputs": [
    {
     "data": {
      "text/html": [
       "<div>\n",
       "<style scoped>\n",
       "    .dataframe tbody tr th:only-of-type {\n",
       "        vertical-align: middle;\n",
       "    }\n",
       "\n",
       "    .dataframe tbody tr th {\n",
       "        vertical-align: top;\n",
       "    }\n",
       "\n",
       "    .dataframe thead th {\n",
       "        text-align: right;\n",
       "    }\n",
       "</style>\n",
       "<table border=\"1\" class=\"dataframe\">\n",
       "  <thead>\n",
       "    <tr style=\"text-align: right;\">\n",
       "      <th></th>\n",
       "      <th>dialect_region</th>\n",
       "      <th>file</th>\n",
       "      <th>id</th>\n",
       "      <th>phonetic_detail</th>\n",
       "      <th>sentence_type</th>\n",
       "      <th>speaker_id</th>\n",
       "      <th>text</th>\n",
       "      <th>word_detail</th>\n",
       "    </tr>\n",
       "  </thead>\n",
       "  <tbody>\n",
       "    <tr>\n",
       "      <th>0</th>\n",
       "      <td>DR4</td>\n",
       "      <td>C:\\Users\\Yang\\.cache\\huggingface\\datasets\\down...</td>\n",
       "      <td>SI681</td>\n",
       "      <td>{'start': [0, 1960, 2466, 3480, 4000, 5960, 74...</td>\n",
       "      <td>SI</td>\n",
       "      <td>MMDM0</td>\n",
       "      <td>Would such an act of refusal be useful?</td>\n",
       "      <td>{'start': [1960, 4000, 9400, 10680, 15880, 182...</td>\n",
       "    </tr>\n",
       "    <tr>\n",
       "      <th>1</th>\n",
       "      <td>DR4</td>\n",
       "      <td>C:\\Users\\Yang\\.cache\\huggingface\\datasets\\down...</td>\n",
       "      <td>SA2</td>\n",
       "      <td>{'start': [0, 2120, 2600, 3800, 4344, 7080, 80...</td>\n",
       "      <td>SA</td>\n",
       "      <td>MMDM0</td>\n",
       "      <td>Don't ask me to carry an oily rag like that.</td>\n",
       "      <td>{'start': [2120, 4344, 8920, 10840, 12280, 180...</td>\n",
       "    </tr>\n",
       "    <tr>\n",
       "      <th>2</th>\n",
       "      <td>DR4</td>\n",
       "      <td>C:\\Users\\Yang\\.cache\\huggingface\\datasets\\down...</td>\n",
       "      <td>SX411</td>\n",
       "      <td>{'start': [0, 2130, 2306, 3520, 3920, 5080, 66...</td>\n",
       "      <td>SX</td>\n",
       "      <td>MMDM0</td>\n",
       "      <td>Butterscotch fudge goes well with vanilla ice ...</td>\n",
       "      <td>{'start': [2130, 12240, 26440, 30200, 35801, 3...</td>\n",
       "    </tr>\n",
       "    <tr>\n",
       "      <th>3</th>\n",
       "      <td>DR4</td>\n",
       "      <td>C:\\Users\\Yang\\.cache\\huggingface\\datasets\\down...</td>\n",
       "      <td>SA1</td>\n",
       "      <td>{'start': [0, 2120, 4600, 6558, 8280, 8760, 91...</td>\n",
       "      <td>SA</td>\n",
       "      <td>MMDM0</td>\n",
       "      <td>She had your dark suit in greasy wash water al...</td>\n",
       "      <td>{'start': [2120, 6558, 9148, 10920, 16560, 212...</td>\n",
       "    </tr>\n",
       "    <tr>\n",
       "      <th>4</th>\n",
       "      <td>DR4</td>\n",
       "      <td>C:\\Users\\Yang\\.cache\\huggingface\\datasets\\down...</td>\n",
       "      <td>SX231</td>\n",
       "      <td>{'start': [0, 2280, 4428, 7352, 8229, 10151, 1...</td>\n",
       "      <td>SX</td>\n",
       "      <td>MMDM0</td>\n",
       "      <td>I honor my mom.</td>\n",
       "      <td>{'start': [2280, 8229, 12040, 15320], 'stop': ...</td>\n",
       "    </tr>\n",
       "    <tr>\n",
       "      <th>5</th>\n",
       "      <td>DR4</td>\n",
       "      <td>C:\\Users\\Yang\\.cache\\huggingface\\datasets\\down...</td>\n",
       "      <td>SX51</td>\n",
       "      <td>{'start': [0, 3968, 4428, 5800, 6767, 7268, 74...</td>\n",
       "      <td>SX</td>\n",
       "      <td>MMDM0</td>\n",
       "      <td>Ambidextrous pickpockets accomplish more.</td>\n",
       "      <td>{'start': [3968, 17560, 28741, 38104], 'stop':...</td>\n",
       "    </tr>\n",
       "    <tr>\n",
       "      <th>6</th>\n",
       "      <td>DR4</td>\n",
       "      <td>C:\\Users\\Yang\\.cache\\huggingface\\datasets\\down...</td>\n",
       "      <td>SX141</td>\n",
       "      <td>{'start': [0, 2120, 3000, 3826, 5480, 6892, 74...</td>\n",
       "      <td>SX</td>\n",
       "      <td>MMDM0</td>\n",
       "      <td>Pledge to participate in Nevada's aquatic comp...</td>\n",
       "      <td>{'start': [2120, 6892, 8520, 19320, 20762, 286...</td>\n",
       "    </tr>\n",
       "    <tr>\n",
       "      <th>7</th>\n",
       "      <td>DR4</td>\n",
       "      <td>C:\\Users\\Yang\\.cache\\huggingface\\datasets\\down...</td>\n",
       "      <td>SI1941</td>\n",
       "      <td>{'start': [0, 2040, 2924, 4040, 4920, 5800, 82...</td>\n",
       "      <td>SI</td>\n",
       "      <td>MMDM0</td>\n",
       "      <td>We'll talk over at your office.</td>\n",
       "      <td>{'start': [2040, 4040, 9817, 14161, 16660, 194...</td>\n",
       "    </tr>\n",
       "    <tr>\n",
       "      <th>8</th>\n",
       "      <td>DR4</td>\n",
       "      <td>C:\\Users\\Yang\\.cache\\huggingface\\datasets\\down...</td>\n",
       "      <td>SI1311</td>\n",
       "      <td>{'start': [0, 2680, 5640, 7853, 8647, 10026, 1...</td>\n",
       "      <td>SI</td>\n",
       "      <td>MMDM0</td>\n",
       "      <td>Soil redeposition is evaluated by washing clea...</td>\n",
       "      <td>{'start': [2680, 8647, 31832, 33420, 46280, 48...</td>\n",
       "    </tr>\n",
       "    <tr>\n",
       "      <th>9</th>\n",
       "      <td>DR4</td>\n",
       "      <td>C:\\Users\\Yang\\.cache\\huggingface\\datasets\\down...</td>\n",
       "      <td>SX321</td>\n",
       "      <td>{'start': [0, 2920, 3300, 3968, 4440, 5305, 75...</td>\n",
       "      <td>SX</td>\n",
       "      <td>MMDM0</td>\n",
       "      <td>The groundhog clearly saw his shadow, but stay...</td>\n",
       "      <td>{'start': [2920, 3300, 13160, 18040, 22892, 23...</td>\n",
       "    </tr>\n",
       "  </tbody>\n",
       "</table>\n",
       "</div>"
      ],
      "text/plain": [
       "  dialect_region                                               file      id  \\\n",
       "0            DR4  C:\\Users\\Yang\\.cache\\huggingface\\datasets\\down...   SI681   \n",
       "1            DR4  C:\\Users\\Yang\\.cache\\huggingface\\datasets\\down...     SA2   \n",
       "2            DR4  C:\\Users\\Yang\\.cache\\huggingface\\datasets\\down...   SX411   \n",
       "3            DR4  C:\\Users\\Yang\\.cache\\huggingface\\datasets\\down...     SA1   \n",
       "4            DR4  C:\\Users\\Yang\\.cache\\huggingface\\datasets\\down...   SX231   \n",
       "5            DR4  C:\\Users\\Yang\\.cache\\huggingface\\datasets\\down...    SX51   \n",
       "6            DR4  C:\\Users\\Yang\\.cache\\huggingface\\datasets\\down...   SX141   \n",
       "7            DR4  C:\\Users\\Yang\\.cache\\huggingface\\datasets\\down...  SI1941   \n",
       "8            DR4  C:\\Users\\Yang\\.cache\\huggingface\\datasets\\down...  SI1311   \n",
       "9            DR4  C:\\Users\\Yang\\.cache\\huggingface\\datasets\\down...   SX321   \n",
       "\n",
       "                                     phonetic_detail sentence_type speaker_id  \\\n",
       "0  {'start': [0, 1960, 2466, 3480, 4000, 5960, 74...            SI      MMDM0   \n",
       "1  {'start': [0, 2120, 2600, 3800, 4344, 7080, 80...            SA      MMDM0   \n",
       "2  {'start': [0, 2130, 2306, 3520, 3920, 5080, 66...            SX      MMDM0   \n",
       "3  {'start': [0, 2120, 4600, 6558, 8280, 8760, 91...            SA      MMDM0   \n",
       "4  {'start': [0, 2280, 4428, 7352, 8229, 10151, 1...            SX      MMDM0   \n",
       "5  {'start': [0, 3968, 4428, 5800, 6767, 7268, 74...            SX      MMDM0   \n",
       "6  {'start': [0, 2120, 3000, 3826, 5480, 6892, 74...            SX      MMDM0   \n",
       "7  {'start': [0, 2040, 2924, 4040, 4920, 5800, 82...            SI      MMDM0   \n",
       "8  {'start': [0, 2680, 5640, 7853, 8647, 10026, 1...            SI      MMDM0   \n",
       "9  {'start': [0, 2920, 3300, 3968, 4440, 5305, 75...            SX      MMDM0   \n",
       "\n",
       "                                                text  \\\n",
       "0            Would such an act of refusal be useful?   \n",
       "1       Don't ask me to carry an oily rag like that.   \n",
       "2  Butterscotch fudge goes well with vanilla ice ...   \n",
       "3  She had your dark suit in greasy wash water al...   \n",
       "4                                    I honor my mom.   \n",
       "5          Ambidextrous pickpockets accomplish more.   \n",
       "6  Pledge to participate in Nevada's aquatic comp...   \n",
       "7                    We'll talk over at your office.   \n",
       "8  Soil redeposition is evaluated by washing clea...   \n",
       "9  The groundhog clearly saw his shadow, but stay...   \n",
       "\n",
       "                                         word_detail  \n",
       "0  {'start': [1960, 4000, 9400, 10680, 15880, 182...  \n",
       "1  {'start': [2120, 4344, 8920, 10840, 12280, 180...  \n",
       "2  {'start': [2130, 12240, 26440, 30200, 35801, 3...  \n",
       "3  {'start': [2120, 6558, 9148, 10920, 16560, 212...  \n",
       "4  {'start': [2280, 8229, 12040, 15320], 'stop': ...  \n",
       "5  {'start': [3968, 17560, 28741, 38104], 'stop':...  \n",
       "6  {'start': [2120, 6892, 8520, 19320, 20762, 286...  \n",
       "7  {'start': [2040, 4040, 9817, 14161, 16660, 194...  \n",
       "8  {'start': [2680, 8647, 31832, 33420, 46280, 48...  \n",
       "9  {'start': [2920, 3300, 13160, 18040, 22892, 23...  "
      ]
     },
     "execution_count": 5,
     "metadata": {},
     "output_type": "execute_result"
    }
   ],
   "source": [
    "timit_train_df.head(10)"
   ]
  },
  {
   "cell_type": "markdown",
   "id": "d7f2f931",
   "metadata": {},
   "source": [
    "# Audio Processing"
   ]
  },
  {
   "cell_type": "code",
   "execution_count": 6,
   "id": "fc0e56a8",
   "metadata": {
    "ExecuteTime": {
     "end_time": "2021-06-07T00:38:08.218680Z",
     "start_time": "2021-06-07T00:38:07.700193Z"
    }
   },
   "outputs": [
    {
     "data": {
      "text/plain": [
       "<matplotlib.collections.PolyCollection at 0x290b1594630>"
      ]
     },
     "execution_count": 6,
     "metadata": {},
     "output_type": "execute_result"
    },
    {
     "data": {
      "image/png": "[encoded data removed]",
      "text/plain": [
       "<Figure size 1080x432 with 1 Axes>"
      ]
     },
     "metadata": {
      "needs_background": "light"
     },
     "output_type": "display_data"
    }
   ],
   "source": [
    "import librosa\n",
    "import librosa.display\n",
    "\n",
    "filename = timit_train_df.file[0]\n",
    "samples, sample_rate = librosa.load(filename, sr=16000)\n",
    "fig = plt.figure(figsize=(15, 6))\n",
    "librosa.display.waveplot(samples, sr=sample_rate)"
   ]
  },
  {
   "cell_type": "markdown",
   "id": "5735e0b3",
   "metadata": {},
   "source": [
    "## Padding"
   ]
  },
  {
   "cell_type": "code",
   "execution_count": 7,
   "id": "887c4ef0",
   "metadata": {
    "ExecuteTime": {
     "end_time": "2021-06-07T00:38:08.223640Z",
     "start_time": "2021-06-07T00:38:08.219651Z"
    }
   },
   "outputs": [],
   "source": [
    "from itertools import repeat, chain, islice\n",
    "\n",
    "def trimmer(seq, size, filler=0):\n",
    "    return islice(chain(seq, repeat(filler)), size)"
   ]
  },
  {
   "cell_type": "code",
   "execution_count": 8,
   "id": "734b1940",
   "metadata": {
    "ExecuteTime": {
     "end_time": "2021-06-07T00:38:19.969630Z",
     "start_time": "2021-06-07T00:38:08.224637Z"
    }
   },
   "outputs": [
    {
     "data": {
      "application/vnd.jupyter.widget-view+json": {
       "model_id": "21dd2e4ec19e48a2ad729f0a10bebdb7",
       "version_major": 2,
       "version_minor": 0
      },
      "text/plain": [
       "HBox(children=(FloatProgress(value=0.0, max=4620.0), HTML(value='')))"
      ]
     },
     "metadata": {},
     "output_type": "display_data"
    },
    {
     "name": "stdout",
     "output_type": "stream",
     "text": [
      "\n"
     ]
    },
    {
     "data": {
      "application/vnd.jupyter.widget-view+json": {
       "model_id": "1cd1ab0914e5435c9dda909efcca0b18",
       "version_major": 2,
       "version_minor": 0
      },
      "text/plain": [
       "HBox(children=(FloatProgress(value=0.0, max=1680.0), HTML(value='')))"
      ]
     },
     "metadata": {},
     "output_type": "display_data"
    },
    {
     "name": "stdout",
     "output_type": "stream",
     "text": [
      "\n"
     ]
    }
   ],
   "source": [
    "sample_rate = 16000\n",
    "\n",
    "all_wave, all_label = [], []\n",
    "for idx in tqdm(range(len(timit_train_df))):\n",
    "    samples, sample_rate = librosa.load(timit_train_df.file[idx], sr=sample_rate)\n",
    "    samples = list(trimmer(samples, 3*sample_rate))\n",
    "    label = timit_train_df.speaker_id[idx]\n",
    "    all_wave.append(samples)\n",
    "    all_label.append(label)\n",
    "for idx in tqdm(range(len(timit_test_df))):\n",
    "    samples, sample_rate = librosa.load(timit_test_df.file[idx], sr=sample_rate)\n",
    "    samples = list(trimmer(samples, 3*sample_rate))\n",
    "    label = timit_test_df.speaker_id[idx]\n",
    "    all_wave.append(samples)\n",
    "    all_label.append(label)"
   ]
  },
  {
   "cell_type": "markdown",
   "id": "99f002fd",
   "metadata": {},
   "source": [
    "## Encode Label"
   ]
  },
  {
   "cell_type": "code",
   "execution_count": 9,
   "id": "8342a90d",
   "metadata": {
    "ExecuteTime": {
     "end_time": "2021-06-07T00:38:19.974621Z",
     "start_time": "2021-06-07T00:38:19.970604Z"
    }
   },
   "outputs": [],
   "source": [
    "from sklearn.preprocessing import LabelEncoder\n",
    "\n",
    "le = LabelEncoder()\n",
    "y = le.fit_transform(all_label)\n",
    "classes = list(le.classes_)"
   ]
  },
  {
   "cell_type": "markdown",
   "id": "4d9f2458",
   "metadata": {},
   "source": [
    "## MFCC Feature"
   ]
  },
  {
   "cell_type": "code",
   "execution_count": 10,
   "id": "5d135e71",
   "metadata": {
    "ExecuteTime": {
     "end_time": "2021-06-07T00:38:19.984520Z",
     "start_time": "2021-06-07T00:38:19.975551Z"
    }
   },
   "outputs": [],
   "source": [
    "import python_speech_features\n",
    "\n",
    "def compute_mfcc(data, n_mfcc, sr=16000):\n",
    "    print('Compute MFCC, n_mfcc=' + str(n_mfcc), flush=True)\n",
    "    all_mfcc = []\n",
    "    for wav in tqdm(data):\n",
    "        feature = python_speech_features.mfcc(wav, \n",
    "                                              samplerate=sr, \n",
    "                                              numcep=n_mfcc, \n",
    "                                              nfft=int(sr*0.025))\n",
    "        all_mfcc.append(feature)\n",
    "    return np.array(all_mfcc)"
   ]
  },
  {
   "cell_type": "code",
   "execution_count": 11,
   "id": "4193e816",
   "metadata": {
    "ExecuteTime": {
     "end_time": "2021-06-07T00:39:01.859005Z",
     "start_time": "2021-06-07T00:38:19.985517Z"
    }
   },
   "outputs": [
    {
     "name": "stdout",
     "output_type": "stream",
     "text": [
      "Compute MFCC, n_mfcc=20\n"
     ]
    },
    {
     "data": {
      "application/vnd.jupyter.widget-view+json": {
       "model_id": "56b6d6a2c1cb4e0ba28c1d025b8873e0",
       "version_major": 2,
       "version_minor": 0
      },
      "text/plain": [
       "HBox(children=(FloatProgress(value=0.0, max=6300.0), HTML(value='')))"
      ]
     },
     "metadata": {},
     "output_type": "display_data"
    },
    {
     "name": "stdout",
     "output_type": "stream",
     "text": [
      "\n"
     ]
    }
   ],
   "source": [
    "all_mfcc = compute_mfcc(np.array(all_wave), 20)"
   ]
  },
  {
   "cell_type": "markdown",
   "id": "148b32cc",
   "metadata": {},
   "source": [
    "## Split Dataset"
   ]
  },
  {
   "cell_type": "code",
   "execution_count": 12,
   "id": "5faefba6",
   "metadata": {
    "ExecuteTime": {
     "end_time": "2021-06-07T00:39:02.072035Z",
     "start_time": "2021-06-07T00:39:01.860003Z"
    }
   },
   "outputs": [
    {
     "data": {
      "text/plain": [
       "((3780, 299, 20), (1260, 299, 20), (1260, 299, 20))"
      ]
     },
     "execution_count": 12,
     "metadata": {},
     "output_type": "execute_result"
    }
   ],
   "source": [
    "from sklearn.model_selection import train_test_split\n",
    "\n",
    "X_train, X_test, y_train, y_test = train_test_split(all_mfcc, y, test_size=0.2, random_state=914, stratify=y)\n",
    "X_train, X_valid, y_train, y_valid = train_test_split(X_train, y_train, test_size=0.25, random_state=914, stratify=y_train)\n",
    "X_train.shape, X_valid.shape, X_test.shape"
   ]
  },
  {
   "cell_type": "markdown",
   "id": "1c555c8e",
   "metadata": {},
   "source": [
    "## Normalisation"
   ]
  },
  {
   "cell_type": "code",
   "execution_count": 13,
   "id": "e8980db6",
   "metadata": {
    "ExecuteTime": {
     "end_time": "2021-06-07T00:39:02.187138Z",
     "start_time": "2021-06-07T00:39:02.072035Z"
    }
   },
   "outputs": [],
   "source": [
    "mean_ = np.mean(X_train, axis=0)\n",
    "std_ = np.std(X_train, axis=0)"
   ]
  },
  {
   "cell_type": "code",
   "execution_count": 14,
   "id": "c32a69ff",
   "metadata": {
    "ExecuteTime": {
     "end_time": "2021-06-07T00:39:02.428918Z",
     "start_time": "2021-06-07T00:39:02.188106Z"
    }
   },
   "outputs": [],
   "source": [
    "X_train = (X_train - mean_) / std_\n",
    "X_valid = (X_valid - mean_) / std_\n",
    "X_test = (X_test - mean_) / std_"
   ]
  },
  {
   "cell_type": "markdown",
   "id": "29a86c5e",
   "metadata": {},
   "source": [
    "## Construct Dataset and Dataloader"
   ]
  },
  {
   "cell_type": "code",
   "execution_count": 15,
   "id": "f53b2a0f",
   "metadata": {
    "ExecuteTime": {
     "end_time": "2021-06-07T00:39:02.434872Z",
     "start_time": "2021-06-07T00:39:02.428918Z"
    }
   },
   "outputs": [],
   "source": [
    "class SpeechDataset(torch.utils.data.Dataset):\n",
    "    \n",
    "    def __init__(self, X, y):\n",
    "        self.X = X\n",
    "        self.y = y\n",
    "\n",
    "    def __len__(self):\n",
    "        return len(self.y)\n",
    "\n",
    "    def __str__(self):\n",
    "        return f\"<Dataset(N={len(self)})>\"\n",
    "\n",
    "    def __getitem__(self, index):\n",
    "        X = self.X[index, :, :]\n",
    "        y = self.y[index]\n",
    "        X = torch.tensor(X, dtype=torch.float32)\n",
    "        y = torch.tensor(y, dtype=torch.long)\n",
    "        return [X, y]\n",
    "\n",
    "    def create_dataloader(self, batch_size, shuffle=False, drop_last=False):\n",
    "        return torch.utils.data.DataLoader(\n",
    "            dataset=self,\n",
    "            batch_size=batch_size,\n",
    "            shuffle=shuffle,\n",
    "            drop_last=drop_last,\n",
    "            pin_memory=True)"
   ]
  },
  {
   "cell_type": "code",
   "execution_count": 16,
   "id": "d9479e04",
   "metadata": {
    "ExecuteTime": {
     "end_time": "2021-06-07T00:39:02.440977Z",
     "start_time": "2021-06-07T00:39:02.435869Z"
    }
   },
   "outputs": [],
   "source": [
    "train_dataset = SpeechDataset(X=X_train, y=y_train)\n",
    "valid_dataset = SpeechDataset(X=X_valid, y=y_valid)\n",
    "test_dataset = SpeechDataset(X=X_test, y=y_test)\n",
    "\n",
    "batch_size = 128\n",
    "\n",
    "train_dataloader = train_dataset.create_dataloader(batch_size=batch_size, shuffle=True)\n",
    "valid_dataloader = valid_dataset.create_dataloader(batch_size=batch_size, shuffle=False)\n",
    "test_dataloader = test_dataset.create_dataloader(batch_size=batch_size, shuffle=False)"
   ]
  },
  {
   "cell_type": "code",
   "execution_count": 17,
   "id": "12795f80",
   "metadata": {
    "ExecuteTime": {
     "end_time": "2021-06-07T00:39:03.454422Z",
     "start_time": "2021-06-07T00:39:02.441854Z"
    }
   },
   "outputs": [
    {
     "name": "stdout",
     "output_type": "stream",
     "text": [
      "Sample batch:\n",
      "  X: [128, 299, 20]\n",
      "  y: [128]\n"
     ]
    }
   ],
   "source": [
    "batch_X, batch_y = next(iter(train_dataloader))\n",
    "print (\"Sample batch:\\n\"\n",
    "    f\"  X: {list(batch_X.size())}\\n\"\n",
    "    f\"  y: {list(batch_y.size())}\")"
   ]
  },
  {
   "cell_type": "markdown",
   "id": "76102bfa",
   "metadata": {},
   "source": [
    "# Setup Trainer"
   ]
  },
  {
   "cell_type": "code",
   "execution_count": 18,
   "id": "840da305",
   "metadata": {
    "ExecuteTime": {
     "end_time": "2021-06-07T00:39:03.477361Z",
     "start_time": "2021-06-07T00:39:03.455419Z"
    }
   },
   "outputs": [],
   "source": [
    "class Engine:\n",
    "\n",
    "    def __init__(self, model, device, optimiser, scheduler=None, max_epochs=10, patience=10):\n",
    "        self.model = model\n",
    "        self.model.to(device)\n",
    "        self.device = device\n",
    "        self.optimiser = optimiser\n",
    "        self.scheduler = scheduler\n",
    "        self.max_epochs = max_epochs\n",
    "        self.patience = patience\n",
    "        \n",
    "        self.train_losses = []\n",
    "        self.valid_losses = []\n",
    "        self.current_train_loss = np.inf\n",
    "        self.current_valid_loss = np.inf\n",
    "\n",
    "    @staticmethod\n",
    "    def loss_fn(outputs, targets):\n",
    "        return nn.CrossEntropyLoss()(outputs, targets)\n",
    "\n",
    "    def fit(self, train_dataloader, valid_dataloader=None):\n",
    "        best_loss = np.inf\n",
    "        early_stopping_counter = 0\n",
    "        early_stopping_iteration = self.patience\n",
    "        for epoch in range(self.max_epochs):\n",
    "            self.current_epoch = epoch\n",
    "            \n",
    "            train_loss = self.train_on_epoch(train_dataloader)\n",
    "            self.current_train_loss = train_loss\n",
    "            self.train_losses.append(train_loss)\n",
    "            \n",
    "            if valid_dataloader is not None:\n",
    "                valid_loss = self.validation_on_epoch(valid_dataloader)\n",
    "                self.current_valid_loss = valid_loss\n",
    "                self.valid_losses.append(valid_loss)\n",
    "            \n",
    "            if self.scheduler is not None:\n",
    "                self.scheduler.step()\n",
    "            \n",
    "            if valid_dataloader is not None:\n",
    "                if valid_loss < best_loss:\n",
    "                    best_loss = valid_loss\n",
    "                else:\n",
    "                    early_stopping_counter += 1\n",
    "\n",
    "                if early_stopping_counter > early_stopping_iteration:\n",
    "                    break\n",
    "    \n",
    "    def predict_proba(self, test_dataloader):\n",
    "        # Set model to eval mode\n",
    "        self.model.eval()\n",
    "        y_proba = []\n",
    "\n",
    "        # Iterate over val batches\n",
    "        with torch.no_grad():\n",
    "            for x, y in tqdm(test_dataloader, leave=False):\n",
    "                x, y = x.to(self.device), y.to(self.device)\n",
    "                proba = self.model(x)\n",
    "                y_proba.extend(proba.cpu())\n",
    "        return self.softmax(np.vstack(y_proba))\n",
    "\n",
    "    @staticmethod\n",
    "    def softmax(x):\n",
    "        \"\"\"Compute softmax values for each sets of scores in x.\"\"\"\n",
    "        exp_ = np.exp(x - np.max(x))\n",
    "        return exp_ / exp_.sum(axis=0)\n",
    "    \n",
    "    def train_on_epoch(self, train_dataloader):\n",
    "        self.model.train()\n",
    "        final_loss = 0\n",
    "        pbar = tqdm(train_dataloader, leave=False)\n",
    "        for counter, (x, y) in enumerate(pbar, start=1):\n",
    "            pbar.set_description(f'Train Epoch {self.current_epoch}')\n",
    "            self.optimiser.zero_grad()\n",
    "            inputs = x.to(self.device)\n",
    "            targets = y.to(self.device)\n",
    "            outputs = self.model(inputs)\n",
    "            loss = self.loss_fn(outputs, targets)\n",
    "            loss.backward()\n",
    "            self.optimiser.step()\n",
    "            final_loss += loss.item()\n",
    "            pbar.set_postfix({'loss': final_loss/counter})\n",
    "        return final_loss / len(train_dataloader)\n",
    "\n",
    "    def validation_on_epoch(self, valid_dataloader):\n",
    "        self.model.train()\n",
    "        final_loss = 0\n",
    "        pbar = tqdm(valid_dataloader, leave=False)\n",
    "        for counter, (x, y) in enumerate(pbar, start=1):\n",
    "            pbar.set_description(f'Valid Epoch {self.current_epoch}')\n",
    "            inputs = x.to(self.device)\n",
    "            targets = y.to(self.device)\n",
    "            outputs = self.model(inputs)\n",
    "            loss = self.loss_fn(outputs, targets)\n",
    "            final_loss += loss.item()\n",
    "            pbar.set_postfix({'loss': final_loss/counter})\n",
    "        return final_loss / len(valid_dataloader)\n",
    "    \n",
    "    def find_lr(self, train_dataloader, init_value=1e-8, final_value=10., beta=0.98):\n",
    "        # Reference from https://sgugger.github.io/how-do-you-find-a-good-learning-rate.html?utm_source=hacpai.com\n",
    "        num = len(train_dataloader)-1\n",
    "        mult = (final_value / init_value) ** (1/num)\n",
    "        lr = init_value\n",
    "        self.optimiser.param_groups[0]['lr'] = lr\n",
    "        avg_loss, best_loss, batch_num = 0., 0., 0\n",
    "        losses, log_lrs = [], []\n",
    "\n",
    "        for x, y in tqdm(train_dataloader):\n",
    "            batch_num += 1\n",
    "            # Get the loss for this mini-batch of inputs/outputs\n",
    "            inputs = x.to(self.device)\n",
    "            targets = y.to(self.device)\n",
    "            self.optimiser.zero_grad()\n",
    "            outputs = self.model(inputs)\n",
    "            loss = self.loss_fn(outputs, targets)\n",
    "            # Compute the smoothed loss\n",
    "            avg_loss = beta * avg_loss + (1-beta) * loss.item()\n",
    "            smoothed_loss = avg_loss / (1 - beta**batch_num)\n",
    "            # Stop if the loss is exploding\n",
    "            if batch_num > 1 and smoothed_loss > 4 * best_loss:\n",
    "                log_lrs, losses = log_lrs[10:-5], losses[10:-5]\n",
    "                return log_lrs, losses\n",
    "            # Record the best loss\n",
    "            if smoothed_loss < best_loss or batch_num == 1:\n",
    "                best_loss = smoothed_loss\n",
    "            # Store the values\n",
    "            losses.append(smoothed_loss)\n",
    "            log_lrs.append(math.log10(lr))\n",
    "            # Do the SGD step\n",
    "            loss.backward()\n",
    "            self.optimiser.step()\n",
    "            # Update the lr for the next step\n",
    "            lr *= mult\n",
    "            self.optimiser.param_groups[0]['lr'] = lr\n",
    "        \n",
    "        # The skip of the first 10 values and the last 5 is another thing that the fastai library does by default\n",
    "        # To remove the initial and final high losses and focus on the interesting parts of the graph.\n",
    "        log_lrs, losses = log_lrs[10:-5], losses[10:-5]\n",
    "        \n",
    "        return log_lrs, losses"
   ]
  },
  {
   "cell_type": "markdown",
   "id": "66937c73",
   "metadata": {},
   "source": [
    "# Build Model"
   ]
  },
  {
   "cell_type": "code",
   "execution_count": 19,
   "id": "c25abf98",
   "metadata": {
    "ExecuteTime": {
     "end_time": "2021-06-07T00:39:03.492321Z",
     "start_time": "2021-06-07T00:39:03.478358Z"
    }
   },
   "outputs": [],
   "source": [
    "class StatsPool(nn.Module):\n",
    "\n",
    "    def __init__(self, floor=1e-10, bessel=False):\n",
    "        super(StatsPool, self).__init__()\n",
    "        self.floor = floor\n",
    "        self.bessel = bessel\n",
    "\n",
    "    def forward(self, x):\n",
    "        means = torch.mean(x, dim=1)\n",
    "        _, t, _ = x.shape\n",
    "        if self.bessel:\n",
    "            t = t - 1\n",
    "        residuals = x - means.unsqueeze(1)\n",
    "        numerator = torch.sum(residuals**2, dim=1)\n",
    "        stds = torch.sqrt(torch.clamp(numerator, min=self.floor)/t)\n",
    "        x = torch.cat([means, stds], dim=1)\n",
    "        return x\n",
    "\n",
    "\n",
    "class TDNN(nn.Module):\n",
    "\n",
    "    def __init__(\n",
    "        self,\n",
    "        input_dim=23,\n",
    "        output_dim=512,\n",
    "        context_size=5,\n",
    "        stride=1,\n",
    "        dilation=1,\n",
    "        batch_norm=True,\n",
    "        dropout_p=0.0,\n",
    "        padding=0\n",
    "    ):\n",
    "        super(TDNN, self).__init__()\n",
    "        self.context_size = context_size\n",
    "        self.stride = stride\n",
    "        self.input_dim = input_dim\n",
    "        self.output_dim = output_dim\n",
    "        self.dilation = dilation\n",
    "        self.dropout_p = dropout_p\n",
    "        self.padding = padding\n",
    "\n",
    "        self.kernel = nn.Conv1d(self.input_dim,\n",
    "                                self.output_dim,\n",
    "                                self.context_size,\n",
    "                                stride=self.stride,\n",
    "                                padding=self.padding,\n",
    "                                dilation=self.dilation)\n",
    "\n",
    "        self.nonlinearity = nn.ReLU()\n",
    "        self.batch_norm = batch_norm\n",
    "        if batch_norm:\n",
    "            self.bn = nn.BatchNorm1d(output_dim)\n",
    "        self.drop = nn.Dropout(p=self.dropout_p)\n",
    "\n",
    "    def forward(self, x):\n",
    "        '''\n",
    "        input: size (batch, seq_len, input_features)\n",
    "        outpu: size (batch, new_seq_len, output_features)\n",
    "        '''\n",
    "        _, _, d = x.shape\n",
    "        assert (d == self.input_dim), 'Input dimension was wrong. Expected ({}), got ({})'.format(\n",
    "            self.input_dim, d)\n",
    "\n",
    "        x = self.kernel(x.transpose(1, 2))\n",
    "        x = self.nonlinearity(x)\n",
    "        x = self.drop(x)\n",
    "\n",
    "        if self.batch_norm:\n",
    "            x = self.bn(x)\n",
    "        return x.transpose(1, 2)\n",
    "    \n",
    "class XVectors(nn.Module):\n",
    "    \n",
    "    def __init__(\n",
    "        self,\n",
    "        dropout_p=0.0, \n",
    "        n_classes=30\n",
    "    ):\n",
    "        super(XVectors, self).__init__()\n",
    "        self.tdnn1 = TDNN(input_dim=20, context_size=5, padding=math.floor(5/2))\n",
    "        self.tdnn2 = TDNN(input_dim=512, context_size=5, padding=math.floor(5/2))\n",
    "        self.tdnn3 = TDNN(input_dim=512, output_dim=1500, context_size=1, padding=math.floor(1/2))\n",
    "        self.tdnnres1 = TDNN(input_dim=512, context_size=7, padding=math.floor(7/2))\n",
    "        self.tdnnres2 = TDNN(input_dim=512, context_size=1, padding=math.floor(1/2))\n",
    "        self.tdnnres3 = TDNN(input_dim=512, context_size=1, padding=math.floor(1/2))\n",
    "        self.pool = StatsPool()\n",
    "        self.linear1 = nn.Linear(3000, 512)\n",
    "        self.linear2 = nn.Linear(512, 512)\n",
    "        self.bn1 = nn.BatchNorm1d(512)\n",
    "        self.bn2 = nn.BatchNorm1d(512)\n",
    "        self.dropout1 = nn.Dropout(p=dropout_p)\n",
    "        self.dropout2 = nn.Dropout(p=dropout_p)\n",
    "        self.nonlinearity = nn.ReLU()\n",
    "        self.classifier = nn.Linear(512, n_classes)\n",
    "        \n",
    "    def forward(self, x):\n",
    "        # Residual TDNN based Frame-level Feature Extractor\n",
    "        x = self.tdnn1(x)\n",
    "        x = self.tdnn2(x)\n",
    "        x = self.tdnnres1(x) + x\n",
    "        x = self.tdnnres2(x) + x\n",
    "        x = self.tdnnres3(x) + x\n",
    "        x = self.tdnn3(x)\n",
    "        \n",
    "        # Statistics Pooling\n",
    "        x = self.pool(x)\n",
    "        \n",
    "        # DNN based Segment level Feature Extractor\n",
    "        x = self.linear1(x)\n",
    "        x = self.nonlinearity(self.dropout1(self.bn1(x)))\n",
    "        x = self.linear2(x)\n",
    "        x = self.nonlinearity(self.dropout2(self.bn2(x)))\n",
    "        \n",
    "        # Classifier\n",
    "        x = self.classifier(x)\n",
    "        \n",
    "        return x"
   ]
  },
  {
   "cell_type": "markdown",
   "id": "ae6e8428",
   "metadata": {},
   "source": [
    "## Find Best Learning Rate"
   ]
  },
  {
   "cell_type": "code",
   "execution_count": 20,
   "id": "46d5d264",
   "metadata": {
    "ExecuteTime": {
     "end_time": "2021-06-07T00:39:08.836234Z",
     "start_time": "2021-06-07T00:39:03.493319Z"
    }
   },
   "outputs": [
    {
     "data": {
      "application/vnd.jupyter.widget-view+json": {
       "model_id": "a581314fab084f4db89422e9b4d40e4e",
       "version_major": 2,
       "version_minor": 0
      },
      "text/plain": [
       "HBox(children=(FloatProgress(value=0.0, max=30.0), HTML(value='')))"
      ]
     },
     "metadata": {},
     "output_type": "display_data"
    },
    {
     "name": "stdout",
     "output_type": "stream",
     "text": [
      "\n"
     ]
    },
    {
     "data": {
      "image/png": "[encoded data removed]",
      "text/plain": [
       "<Figure size 1080x360 with 1 Axes>"
      ]
     },
     "metadata": {
      "needs_background": "light"
     },
     "output_type": "display_data"
    }
   ],
   "source": [
    "model = XVectors(n_classes=len(classes))\n",
    "device = \"cuda\"\n",
    "optimiser = torch.optim.Adam(model.parameters(), lr=3e-4)\n",
    "engine = Engine(model, device, optimiser, scheduler=None, max_epochs=100, patience=10)\n",
    "log_lrs, losses = engine.find_lr(train_dataloader)\n",
    "\n",
    "plt.figure(figsize=(15, 5))\n",
    "plt.plot(log_lrs, losses)\n",
    "plt.xlabel(\"Base 10 Logarithm of Learning Rate\")\n",
    "plt.ylabel(\"Loss\")\n",
    "plt.grid()\n",
    "plt.show()"
   ]
  },
  {
   "cell_type": "markdown",
   "id": "fe8cc3a6",
   "metadata": {},
   "source": [
    "## Model Training"
   ]
  },
  {
   "cell_type": "code",
   "execution_count": 21,
   "id": "5c60d627",
   "metadata": {
    "ExecuteTime": {
     "end_time": "2021-06-07T00:43:11.226534Z",
     "start_time": "2021-06-07T00:39:08.836755Z"
    }
   },
   "outputs": [
    {
     "data": {
      "application/vnd.jupyter.widget-view+json": {
       "model_id": "",
       "version_major": 2,
       "version_minor": 0
      },
      "text/plain": [
       "HBox(children=(FloatProgress(value=0.0, max=30.0), HTML(value='')))"
      ]
     },
     "metadata": {},
     "output_type": "display_data"
    },
    {
     "data": {
      "application/vnd.jupyter.widget-view+json": {
       "model_id": "",
       "version_major": 2,
       "version_minor": 0
      },
      "text/plain": [
       "HBox(children=(FloatProgress(value=0.0, max=10.0), HTML(value='')))"
      ]
     },
     "metadata": {},
     "output_type": "display_data"
    },
    {
     "data": {
      "application/vnd.jupyter.widget-view+json": {
       "model_id": "",
       "version_major": 2,
       "version_minor": 0
      },
      "text/plain": [
       "HBox(children=(FloatProgress(value=0.0, max=30.0), HTML(value='')))"
      ]
     },
     "metadata": {},
     "output_type": "display_data"
    },
    {
     "data": {
      "application/vnd.jupyter.widget-view+json": {
       "model_id": "",
       "version_major": 2,
       "version_minor": 0
      },
      "text/plain": [
       "HBox(children=(FloatProgress(value=0.0, max=10.0), HTML(value='')))"
      ]
     },
     "metadata": {},
     "output_type": "display_data"
    },
    {
     "data": {
      "application/vnd.jupyter.widget-view+json": {
       "model_id": "",
       "version_major": 2,
       "version_minor": 0
      },
      "text/plain": [
       "HBox(children=(FloatProgress(value=0.0, max=30.0), HTML(value='')))"
      ]
     },
     "metadata": {},
     "output_type": "display_data"
    },
    {
     "data": {
      "application/vnd.jupyter.widget-view+json": {
       "model_id": "",
       "version_major": 2,
       "version_minor": 0
      },
      "text/plain": [
       "HBox(children=(FloatProgress(value=0.0, max=10.0), HTML(value='')))"
      ]
     },
     "metadata": {},
     "output_type": "display_data"
    },
    {
     "data": {
      "application/vnd.jupyter.widget-view+json": {
       "model_id": "",
       "version_major": 2,
       "version_minor": 0
      },
      "text/plain": [
       "HBox(children=(FloatProgress(value=0.0, max=30.0), HTML(value='')))"
      ]
     },
     "metadata": {},
     "output_type": "display_data"
    },
    {
     "data": {
      "application/vnd.jupyter.widget-view+json": {
       "model_id": "",
       "version_major": 2,
       "version_minor": 0
      },
      "text/plain": [
       "HBox(children=(FloatProgress(value=0.0, max=10.0), HTML(value='')))"
      ]
     },
     "metadata": {},
     "output_type": "display_data"
    },
    {
     "data": {
      "application/vnd.jupyter.widget-view+json": {
       "model_id": "",
       "version_major": 2,
       "version_minor": 0
      },
      "text/plain": [
       "HBox(children=(FloatProgress(value=0.0, max=30.0), HTML(value='')))"
      ]
     },
     "metadata": {},
     "output_type": "display_data"
    },
    {
     "data": {
      "application/vnd.jupyter.widget-view+json": {
       "model_id": "",
       "version_major": 2,
       "version_minor": 0
      },
      "text/plain": [
       "HBox(children=(FloatProgress(value=0.0, max=10.0), HTML(value='')))"
      ]
     },
     "metadata": {},
     "output_type": "display_data"
    },
    {
     "data": {
      "application/vnd.jupyter.widget-view+json": {
       "model_id": "",
       "version_major": 2,
       "version_minor": 0
      },
      "text/plain": [
       "HBox(children=(FloatProgress(value=0.0, max=30.0), HTML(value='')))"
      ]
     },
     "metadata": {},
     "output_type": "display_data"
    },
    {
     "data": {
      "application/vnd.jupyter.widget-view+json": {
       "model_id": "",
       "version_major": 2,
       "version_minor": 0
      },
      "text/plain": [
       "HBox(children=(FloatProgress(value=0.0, max=10.0), HTML(value='')))"
      ]
     },
     "metadata": {},
     "output_type": "display_data"
    },
    {
     "data": {
      "application/vnd.jupyter.widget-view+json": {
       "model_id": "",
       "version_major": 2,
       "version_minor": 0
      },
      "text/plain": [
       "HBox(children=(FloatProgress(value=0.0, max=30.0), HTML(value='')))"
      ]
     },
     "metadata": {},
     "output_type": "display_data"
    },
    {
     "data": {
      "application/vnd.jupyter.widget-view+json": {
       "model_id": "",
       "version_major": 2,
       "version_minor": 0
      },
      "text/plain": [
       "HBox(children=(FloatProgress(value=0.0, max=10.0), HTML(value='')))"
      ]
     },
     "metadata": {},
     "output_type": "display_data"
    },
    {
     "data": {
      "application/vnd.jupyter.widget-view+json": {
       "model_id": "",
       "version_major": 2,
       "version_minor": 0
      },
      "text/plain": [
       "HBox(children=(FloatProgress(value=0.0, max=30.0), HTML(value='')))"
      ]
     },
     "metadata": {},
     "output_type": "display_data"
    },
    {
     "data": {
      "application/vnd.jupyter.widget-view+json": {
       "model_id": "",
       "version_major": 2,
       "version_minor": 0
      },
      "text/plain": [
       "HBox(children=(FloatProgress(value=0.0, max=10.0), HTML(value='')))"
      ]
     },
     "metadata": {},
     "output_type": "display_data"
    },
    {
     "data": {
      "application/vnd.jupyter.widget-view+json": {
       "model_id": "",
       "version_major": 2,
       "version_minor": 0
      },
      "text/plain": [
       "HBox(children=(FloatProgress(value=0.0, max=30.0), HTML(value='')))"
      ]
     },
     "metadata": {},
     "output_type": "display_data"
    },
    {
     "data": {
      "application/vnd.jupyter.widget-view+json": {
       "model_id": "",
       "version_major": 2,
       "version_minor": 0
      },
      "text/plain": [
       "HBox(children=(FloatProgress(value=0.0, max=10.0), HTML(value='')))"
      ]
     },
     "metadata": {},
     "output_type": "display_data"
    },
    {
     "data": {
      "application/vnd.jupyter.widget-view+json": {
       "model_id": "",
       "version_major": 2,
       "version_minor": 0
      },
      "text/plain": [
       "HBox(children=(FloatProgress(value=0.0, max=30.0), HTML(value='')))"
      ]
     },
     "metadata": {},
     "output_type": "display_data"
    },
    {
     "data": {
      "application/vnd.jupyter.widget-view+json": {
       "model_id": "",
       "version_major": 2,
       "version_minor": 0
      },
      "text/plain": [
       "HBox(children=(FloatProgress(value=0.0, max=10.0), HTML(value='')))"
      ]
     },
     "metadata": {},
     "output_type": "display_data"
    },
    {
     "data": {
      "application/vnd.jupyter.widget-view+json": {
       "model_id": "",
       "version_major": 2,
       "version_minor": 0
      },
      "text/plain": [
       "HBox(children=(FloatProgress(value=0.0, max=30.0), HTML(value='')))"
      ]
     },
     "metadata": {},
     "output_type": "display_data"
    },
    {
     "data": {
      "application/vnd.jupyter.widget-view+json": {
       "model_id": "",
       "version_major": 2,
       "version_minor": 0
      },
      "text/plain": [
       "HBox(children=(FloatProgress(value=0.0, max=10.0), HTML(value='')))"
      ]
     },
     "metadata": {},
     "output_type": "display_data"
    },
    {
     "data": {
      "application/vnd.jupyter.widget-view+json": {
       "model_id": "",
       "version_major": 2,
       "version_minor": 0
      },
      "text/plain": [
       "HBox(children=(FloatProgress(value=0.0, max=30.0), HTML(value='')))"
      ]
     },
     "metadata": {},
     "output_type": "display_data"
    },
    {
     "data": {
      "application/vnd.jupyter.widget-view+json": {
       "model_id": "",
       "version_major": 2,
       "version_minor": 0
      },
      "text/plain": [
       "HBox(children=(FloatProgress(value=0.0, max=10.0), HTML(value='')))"
      ]
     },
     "metadata": {},
     "output_type": "display_data"
    },
    {
     "data": {
      "application/vnd.jupyter.widget-view+json": {
       "model_id": "",
       "version_major": 2,
       "version_minor": 0
      },
      "text/plain": [
       "HBox(children=(FloatProgress(value=0.0, max=30.0), HTML(value='')))"
      ]
     },
     "metadata": {},
     "output_type": "display_data"
    },
    {
     "data": {
      "application/vnd.jupyter.widget-view+json": {
       "model_id": "",
       "version_major": 2,
       "version_minor": 0
      },
      "text/plain": [
       "HBox(children=(FloatProgress(value=0.0, max=10.0), HTML(value='')))"
      ]
     },
     "metadata": {},
     "output_type": "display_data"
    },
    {
     "data": {
      "application/vnd.jupyter.widget-view+json": {
       "model_id": "",
       "version_major": 2,
       "version_minor": 0
      },
      "text/plain": [
       "HBox(children=(FloatProgress(value=0.0, max=30.0), HTML(value='')))"
      ]
     },
     "metadata": {},
     "output_type": "display_data"
    },
    {
     "data": {
      "application/vnd.jupyter.widget-view+json": {
       "model_id": "",
       "version_major": 2,
       "version_minor": 0
      },
      "text/plain": [
       "HBox(children=(FloatProgress(value=0.0, max=10.0), HTML(value='')))"
      ]
     },
     "metadata": {},
     "output_type": "display_data"
    },
    {
     "data": {
      "application/vnd.jupyter.widget-view+json": {
       "model_id": "",
       "version_major": 2,
       "version_minor": 0
      },
      "text/plain": [
       "HBox(children=(FloatProgress(value=0.0, max=30.0), HTML(value='')))"
      ]
     },
     "metadata": {},
     "output_type": "display_data"
    },
    {
     "data": {
      "application/vnd.jupyter.widget-view+json": {
       "model_id": "",
       "version_major": 2,
       "version_minor": 0
      },
      "text/plain": [
       "HBox(children=(FloatProgress(value=0.0, max=10.0), HTML(value='')))"
      ]
     },
     "metadata": {},
     "output_type": "display_data"
    },
    {
     "data": {
      "application/vnd.jupyter.widget-view+json": {
       "model_id": "",
       "version_major": 2,
       "version_minor": 0
      },
      "text/plain": [
       "HBox(children=(FloatProgress(value=0.0, max=30.0), HTML(value='')))"
      ]
     },
     "metadata": {},
     "output_type": "display_data"
    },
    {
     "data": {
      "application/vnd.jupyter.widget-view+json": {
       "model_id": "",
       "version_major": 2,
       "version_minor": 0
      },
      "text/plain": [
       "HBox(children=(FloatProgress(value=0.0, max=10.0), HTML(value='')))"
      ]
     },
     "metadata": {},
     "output_type": "display_data"
    },
    {
     "data": {
      "application/vnd.jupyter.widget-view+json": {
       "model_id": "",
       "version_major": 2,
       "version_minor": 0
      },
      "text/plain": [
       "HBox(children=(FloatProgress(value=0.0, max=30.0), HTML(value='')))"
      ]
     },
     "metadata": {},
     "output_type": "display_data"
    },
    {
     "data": {
      "application/vnd.jupyter.widget-view+json": {
       "model_id": "",
       "version_major": 2,
       "version_minor": 0
      },
      "text/plain": [
       "HBox(children=(FloatProgress(value=0.0, max=10.0), HTML(value='')))"
      ]
     },
     "metadata": {},
     "output_type": "display_data"
    },
    {
     "data": {
      "application/vnd.jupyter.widget-view+json": {
       "model_id": "",
       "version_major": 2,
       "version_minor": 0
      },
      "text/plain": [
       "HBox(children=(FloatProgress(value=0.0, max=30.0), HTML(value='')))"
      ]
     },
     "metadata": {},
     "output_type": "display_data"
    },
    {
     "data": {
      "application/vnd.jupyter.widget-view+json": {
       "model_id": "",
       "version_major": 2,
       "version_minor": 0
      },
      "text/plain": [
       "HBox(children=(FloatProgress(value=0.0, max=10.0), HTML(value='')))"
      ]
     },
     "metadata": {},
     "output_type": "display_data"
    },
    {
     "data": {
      "application/vnd.jupyter.widget-view+json": {
       "model_id": "",
       "version_major": 2,
       "version_minor": 0
      },
      "text/plain": [
       "HBox(children=(FloatProgress(value=0.0, max=30.0), HTML(value='')))"
      ]
     },
     "metadata": {},
     "output_type": "display_data"
    },
    {
     "data": {
      "application/vnd.jupyter.widget-view+json": {
       "model_id": "",
       "version_major": 2,
       "version_minor": 0
      },
      "text/plain": [
       "HBox(children=(FloatProgress(value=0.0, max=10.0), HTML(value='')))"
      ]
     },
     "metadata": {},
     "output_type": "display_data"
    },
    {
     "data": {
      "application/vnd.jupyter.widget-view+json": {
       "model_id": "",
       "version_major": 2,
       "version_minor": 0
      },
      "text/plain": [
       "HBox(children=(FloatProgress(value=0.0, max=30.0), HTML(value='')))"
      ]
     },
     "metadata": {},
     "output_type": "display_data"
    },
    {
     "data": {
      "application/vnd.jupyter.widget-view+json": {
       "model_id": "",
       "version_major": 2,
       "version_minor": 0
      },
      "text/plain": [
       "HBox(children=(FloatProgress(value=0.0, max=10.0), HTML(value='')))"
      ]
     },
     "metadata": {},
     "output_type": "display_data"
    },
    {
     "data": {
      "application/vnd.jupyter.widget-view+json": {
       "model_id": "",
       "version_major": 2,
       "version_minor": 0
      },
      "text/plain": [
       "HBox(children=(FloatProgress(value=0.0, max=30.0), HTML(value='')))"
      ]
     },
     "metadata": {},
     "output_type": "display_data"
    },
    {
     "data": {
      "application/vnd.jupyter.widget-view+json": {
       "model_id": "",
       "version_major": 2,
       "version_minor": 0
      },
      "text/plain": [
       "HBox(children=(FloatProgress(value=0.0, max=10.0), HTML(value='')))"
      ]
     },
     "metadata": {},
     "output_type": "display_data"
    },
    {
     "data": {
      "application/vnd.jupyter.widget-view+json": {
       "model_id": "",
       "version_major": 2,
       "version_minor": 0
      },
      "text/plain": [
       "HBox(children=(FloatProgress(value=0.0, max=30.0), HTML(value='')))"
      ]
     },
     "metadata": {},
     "output_type": "display_data"
    },
    {
     "data": {
      "application/vnd.jupyter.widget-view+json": {
       "model_id": "",
       "version_major": 2,
       "version_minor": 0
      },
      "text/plain": [
       "HBox(children=(FloatProgress(value=0.0, max=10.0), HTML(value='')))"
      ]
     },
     "metadata": {},
     "output_type": "display_data"
    },
    {
     "data": {
      "application/vnd.jupyter.widget-view+json": {
       "model_id": "",
       "version_major": 2,
       "version_minor": 0
      },
      "text/plain": [
       "HBox(children=(FloatProgress(value=0.0, max=30.0), HTML(value='')))"
      ]
     },
     "metadata": {},
     "output_type": "display_data"
    },
    {
     "data": {
      "application/vnd.jupyter.widget-view+json": {
       "model_id": "",
       "version_major": 2,
       "version_minor": 0
      },
      "text/plain": [
       "HBox(children=(FloatProgress(value=0.0, max=10.0), HTML(value='')))"
      ]
     },
     "metadata": {},
     "output_type": "display_data"
    },
    {
     "data": {
      "application/vnd.jupyter.widget-view+json": {
       "model_id": "",
       "version_major": 2,
       "version_minor": 0
      },
      "text/plain": [
       "HBox(children=(FloatProgress(value=0.0, max=30.0), HTML(value='')))"
      ]
     },
     "metadata": {},
     "output_type": "display_data"
    },
    {
     "data": {
      "application/vnd.jupyter.widget-view+json": {
       "model_id": "",
       "version_major": 2,
       "version_minor": 0
      },
      "text/plain": [
       "HBox(children=(FloatProgress(value=0.0, max=10.0), HTML(value='')))"
      ]
     },
     "metadata": {},
     "output_type": "display_data"
    },
    {
     "data": {
      "application/vnd.jupyter.widget-view+json": {
       "model_id": "",
       "version_major": 2,
       "version_minor": 0
      },
      "text/plain": [
       "HBox(children=(FloatProgress(value=0.0, max=30.0), HTML(value='')))"
      ]
     },
     "metadata": {},
     "output_type": "display_data"
    },
    {
     "data": {
      "application/vnd.jupyter.widget-view+json": {
       "model_id": "",
       "version_major": 2,
       "version_minor": 0
      },
      "text/plain": [
       "HBox(children=(FloatProgress(value=0.0, max=10.0), HTML(value='')))"
      ]
     },
     "metadata": {},
     "output_type": "display_data"
    },
    {
     "data": {
      "application/vnd.jupyter.widget-view+json": {
       "model_id": "",
       "version_major": 2,
       "version_minor": 0
      },
      "text/plain": [
       "HBox(children=(FloatProgress(value=0.0, max=30.0), HTML(value='')))"
      ]
     },
     "metadata": {},
     "output_type": "display_data"
    },
    {
     "data": {
      "application/vnd.jupyter.widget-view+json": {
       "model_id": "",
       "version_major": 2,
       "version_minor": 0
      },
      "text/plain": [
       "HBox(children=(FloatProgress(value=0.0, max=10.0), HTML(value='')))"
      ]
     },
     "metadata": {},
     "output_type": "display_data"
    },
    {
     "data": {
      "application/vnd.jupyter.widget-view+json": {
       "model_id": "",
       "version_major": 2,
       "version_minor": 0
      },
      "text/plain": [
       "HBox(children=(FloatProgress(value=0.0, max=30.0), HTML(value='')))"
      ]
     },
     "metadata": {},
     "output_type": "display_data"
    },
    {
     "data": {
      "application/vnd.jupyter.widget-view+json": {
       "model_id": "",
       "version_major": 2,
       "version_minor": 0
      },
      "text/plain": [
       "HBox(children=(FloatProgress(value=0.0, max=10.0), HTML(value='')))"
      ]
     },
     "metadata": {},
     "output_type": "display_data"
    },
    {
     "data": {
      "application/vnd.jupyter.widget-view+json": {
       "model_id": "",
       "version_major": 2,
       "version_minor": 0
      },
      "text/plain": [
       "HBox(children=(FloatProgress(value=0.0, max=30.0), HTML(value='')))"
      ]
     },
     "metadata": {},
     "output_type": "display_data"
    },
    {
     "data": {
      "application/vnd.jupyter.widget-view+json": {
       "model_id": "",
       "version_major": 2,
       "version_minor": 0
      },
      "text/plain": [
       "HBox(children=(FloatProgress(value=0.0, max=10.0), HTML(value='')))"
      ]
     },
     "metadata": {},
     "output_type": "display_data"
    },
    {
     "data": {
      "application/vnd.jupyter.widget-view+json": {
       "model_id": "",
       "version_major": 2,
       "version_minor": 0
      },
      "text/plain": [
       "HBox(children=(FloatProgress(value=0.0, max=30.0), HTML(value='')))"
      ]
     },
     "metadata": {},
     "output_type": "display_data"
    },
    {
     "data": {
      "application/vnd.jupyter.widget-view+json": {
       "model_id": "",
       "version_major": 2,
       "version_minor": 0
      },
      "text/plain": [
       "HBox(children=(FloatProgress(value=0.0, max=10.0), HTML(value='')))"
      ]
     },
     "metadata": {},
     "output_type": "display_data"
    },
    {
     "data": {
      "application/vnd.jupyter.widget-view+json": {
       "model_id": "",
       "version_major": 2,
       "version_minor": 0
      },
      "text/plain": [
       "HBox(children=(FloatProgress(value=0.0, max=30.0), HTML(value='')))"
      ]
     },
     "metadata": {},
     "output_type": "display_data"
    },
    {
     "data": {
      "application/vnd.jupyter.widget-view+json": {
       "model_id": "",
       "version_major": 2,
       "version_minor": 0
      },
      "text/plain": [
       "HBox(children=(FloatProgress(value=0.0, max=10.0), HTML(value='')))"
      ]
     },
     "metadata": {},
     "output_type": "display_data"
    },
    {
     "data": {
      "application/vnd.jupyter.widget-view+json": {
       "model_id": "",
       "version_major": 2,
       "version_minor": 0
      },
      "text/plain": [
       "HBox(children=(FloatProgress(value=0.0, max=30.0), HTML(value='')))"
      ]
     },
     "metadata": {},
     "output_type": "display_data"
    },
    {
     "data": {
      "application/vnd.jupyter.widget-view+json": {
       "model_id": "",
       "version_major": 2,
       "version_minor": 0
      },
      "text/plain": [
       "HBox(children=(FloatProgress(value=0.0, max=10.0), HTML(value='')))"
      ]
     },
     "metadata": {},
     "output_type": "display_data"
    },
    {
     "data": {
      "application/vnd.jupyter.widget-view+json": {
       "model_id": "",
       "version_major": 2,
       "version_minor": 0
      },
      "text/plain": [
       "HBox(children=(FloatProgress(value=0.0, max=30.0), HTML(value='')))"
      ]
     },
     "metadata": {},
     "output_type": "display_data"
    },
    {
     "data": {
      "application/vnd.jupyter.widget-view+json": {
       "model_id": "",
       "version_major": 2,
       "version_minor": 0
      },
      "text/plain": [
       "HBox(children=(FloatProgress(value=0.0, max=10.0), HTML(value='')))"
      ]
     },
     "metadata": {},
     "output_type": "display_data"
    },
    {
     "data": {
      "application/vnd.jupyter.widget-view+json": {
       "model_id": "",
       "version_major": 2,
       "version_minor": 0
      },
      "text/plain": [
       "HBox(children=(FloatProgress(value=0.0, max=30.0), HTML(value='')))"
      ]
     },
     "metadata": {},
     "output_type": "display_data"
    },
    {
     "data": {
      "application/vnd.jupyter.widget-view+json": {
       "model_id": "",
       "version_major": 2,
       "version_minor": 0
      },
      "text/plain": [
       "HBox(children=(FloatProgress(value=0.0, max=10.0), HTML(value='')))"
      ]
     },
     "metadata": {},
     "output_type": "display_data"
    },
    {
     "data": {
      "application/vnd.jupyter.widget-view+json": {
       "model_id": "",
       "version_major": 2,
       "version_minor": 0
      },
      "text/plain": [
       "HBox(children=(FloatProgress(value=0.0, max=30.0), HTML(value='')))"
      ]
     },
     "metadata": {},
     "output_type": "display_data"
    },
    {
     "data": {
      "application/vnd.jupyter.widget-view+json": {
       "model_id": "",
       "version_major": 2,
       "version_minor": 0
      },
      "text/plain": [
       "HBox(children=(FloatProgress(value=0.0, max=10.0), HTML(value='')))"
      ]
     },
     "metadata": {},
     "output_type": "display_data"
    },
    {
     "data": {
      "application/vnd.jupyter.widget-view+json": {
       "model_id": "",
       "version_major": 2,
       "version_minor": 0
      },
      "text/plain": [
       "HBox(children=(FloatProgress(value=0.0, max=30.0), HTML(value='')))"
      ]
     },
     "metadata": {},
     "output_type": "display_data"
    },
    {
     "data": {
      "application/vnd.jupyter.widget-view+json": {
       "model_id": "",
       "version_major": 2,
       "version_minor": 0
      },
      "text/plain": [
       "HBox(children=(FloatProgress(value=0.0, max=10.0), HTML(value='')))"
      ]
     },
     "metadata": {},
     "output_type": "display_data"
    },
    {
     "data": {
      "application/vnd.jupyter.widget-view+json": {
       "model_id": "",
       "version_major": 2,
       "version_minor": 0
      },
      "text/plain": [
       "HBox(children=(FloatProgress(value=0.0, max=30.0), HTML(value='')))"
      ]
     },
     "metadata": {},
     "output_type": "display_data"
    },
    {
     "data": {
      "application/vnd.jupyter.widget-view+json": {
       "model_id": "",
       "version_major": 2,
       "version_minor": 0
      },
      "text/plain": [
       "HBox(children=(FloatProgress(value=0.0, max=10.0), HTML(value='')))"
      ]
     },
     "metadata": {},
     "output_type": "display_data"
    },
    {
     "data": {
      "application/vnd.jupyter.widget-view+json": {
       "model_id": "",
       "version_major": 2,
       "version_minor": 0
      },
      "text/plain": [
       "HBox(children=(FloatProgress(value=0.0, max=30.0), HTML(value='')))"
      ]
     },
     "metadata": {},
     "output_type": "display_data"
    },
    {
     "data": {
      "application/vnd.jupyter.widget-view+json": {
       "model_id": "",
       "version_major": 2,
       "version_minor": 0
      },
      "text/plain": [
       "HBox(children=(FloatProgress(value=0.0, max=10.0), HTML(value='')))"
      ]
     },
     "metadata": {},
     "output_type": "display_data"
    },
    {
     "data": {
      "application/vnd.jupyter.widget-view+json": {
       "model_id": "",
       "version_major": 2,
       "version_minor": 0
      },
      "text/plain": [
       "HBox(children=(FloatProgress(value=0.0, max=30.0), HTML(value='')))"
      ]
     },
     "metadata": {},
     "output_type": "display_data"
    },
    {
     "data": {
      "application/vnd.jupyter.widget-view+json": {
       "model_id": "",
       "version_major": 2,
       "version_minor": 0
      },
      "text/plain": [
       "HBox(children=(FloatProgress(value=0.0, max=10.0), HTML(value='')))"
      ]
     },
     "metadata": {},
     "output_type": "display_data"
    },
    {
     "data": {
      "application/vnd.jupyter.widget-view+json": {
       "model_id": "",
       "version_major": 2,
       "version_minor": 0
      },
      "text/plain": [
       "HBox(children=(FloatProgress(value=0.0, max=30.0), HTML(value='')))"
      ]
     },
     "metadata": {},
     "output_type": "display_data"
    },
    {
     "data": {
      "application/vnd.jupyter.widget-view+json": {
       "model_id": "",
       "version_major": 2,
       "version_minor": 0
      },
      "text/plain": [
       "HBox(children=(FloatProgress(value=0.0, max=10.0), HTML(value='')))"
      ]
     },
     "metadata": {},
     "output_type": "display_data"
    },
    {
     "data": {
      "application/vnd.jupyter.widget-view+json": {
       "model_id": "",
       "version_major": 2,
       "version_minor": 0
      },
      "text/plain": [
       "HBox(children=(FloatProgress(value=0.0, max=30.0), HTML(value='')))"
      ]
     },
     "metadata": {},
     "output_type": "display_data"
    },
    {
     "data": {
      "application/vnd.jupyter.widget-view+json": {
       "model_id": "",
       "version_major": 2,
       "version_minor": 0
      },
      "text/plain": [
       "HBox(children=(FloatProgress(value=0.0, max=10.0), HTML(value='')))"
      ]
     },
     "metadata": {},
     "output_type": "display_data"
    },
    {
     "data": {
      "application/vnd.jupyter.widget-view+json": {
       "model_id": "",
       "version_major": 2,
       "version_minor": 0
      },
      "text/plain": [
       "HBox(children=(FloatProgress(value=0.0, max=30.0), HTML(value='')))"
      ]
     },
     "metadata": {},
     "output_type": "display_data"
    },
    {
     "data": {
      "application/vnd.jupyter.widget-view+json": {
       "model_id": "",
       "version_major": 2,
       "version_minor": 0
      },
      "text/plain": [
       "HBox(children=(FloatProgress(value=0.0, max=10.0), HTML(value='')))"
      ]
     },
     "metadata": {},
     "output_type": "display_data"
    },
    {
     "data": {
      "application/vnd.jupyter.widget-view+json": {
       "model_id": "",
       "version_major": 2,
       "version_minor": 0
      },
      "text/plain": [
       "HBox(children=(FloatProgress(value=0.0, max=30.0), HTML(value='')))"
      ]
     },
     "metadata": {},
     "output_type": "display_data"
    },
    {
     "data": {
      "application/vnd.jupyter.widget-view+json": {
       "model_id": "",
       "version_major": 2,
       "version_minor": 0
      },
      "text/plain": [
       "HBox(children=(FloatProgress(value=0.0, max=10.0), HTML(value='')))"
      ]
     },
     "metadata": {},
     "output_type": "display_data"
    },
    {
     "data": {
      "application/vnd.jupyter.widget-view+json": {
       "model_id": "",
       "version_major": 2,
       "version_minor": 0
      },
      "text/plain": [
       "HBox(children=(FloatProgress(value=0.0, max=30.0), HTML(value='')))"
      ]
     },
     "metadata": {},
     "output_type": "display_data"
    },
    {
     "data": {
      "application/vnd.jupyter.widget-view+json": {
       "model_id": "",
       "version_major": 2,
       "version_minor": 0
      },
      "text/plain": [
       "HBox(children=(FloatProgress(value=0.0, max=10.0), HTML(value='')))"
      ]
     },
     "metadata": {},
     "output_type": "display_data"
    },
    {
     "data": {
      "application/vnd.jupyter.widget-view+json": {
       "model_id": "",
       "version_major": 2,
       "version_minor": 0
      },
      "text/plain": [
       "HBox(children=(FloatProgress(value=0.0, max=30.0), HTML(value='')))"
      ]
     },
     "metadata": {},
     "output_type": "display_data"
    },
    {
     "data": {
      "application/vnd.jupyter.widget-view+json": {
       "model_id": "",
       "version_major": 2,
       "version_minor": 0
      },
      "text/plain": [
       "HBox(children=(FloatProgress(value=0.0, max=10.0), HTML(value='')))"
      ]
     },
     "metadata": {},
     "output_type": "display_data"
    },
    {
     "data": {
      "application/vnd.jupyter.widget-view+json": {
       "model_id": "",
       "version_major": 2,
       "version_minor": 0
      },
      "text/plain": [
       "HBox(children=(FloatProgress(value=0.0, max=30.0), HTML(value='')))"
      ]
     },
     "metadata": {},
     "output_type": "display_data"
    },
    {
     "data": {
      "application/vnd.jupyter.widget-view+json": {
       "model_id": "",
       "version_major": 2,
       "version_minor": 0
      },
      "text/plain": [
       "HBox(children=(FloatProgress(value=0.0, max=10.0), HTML(value='')))"
      ]
     },
     "metadata": {},
     "output_type": "display_data"
    },
    {
     "data": {
      "application/vnd.jupyter.widget-view+json": {
       "model_id": "",
       "version_major": 2,
       "version_minor": 0
      },
      "text/plain": [
       "HBox(children=(FloatProgress(value=0.0, max=30.0), HTML(value='')))"
      ]
     },
     "metadata": {},
     "output_type": "display_data"
    },
    {
     "data": {
      "application/vnd.jupyter.widget-view+json": {
       "model_id": "",
       "version_major": 2,
       "version_minor": 0
      },
      "text/plain": [
       "HBox(children=(FloatProgress(value=0.0, max=10.0), HTML(value='')))"
      ]
     },
     "metadata": {},
     "output_type": "display_data"
    },
    {
     "data": {
      "application/vnd.jupyter.widget-view+json": {
       "model_id": "",
       "version_major": 2,
       "version_minor": 0
      },
      "text/plain": [
       "HBox(children=(FloatProgress(value=0.0, max=30.0), HTML(value='')))"
      ]
     },
     "metadata": {},
     "output_type": "display_data"
    },
    {
     "data": {
      "application/vnd.jupyter.widget-view+json": {
       "model_id": "",
       "version_major": 2,
       "version_minor": 0
      },
      "text/plain": [
       "HBox(children=(FloatProgress(value=0.0, max=10.0), HTML(value='')))"
      ]
     },
     "metadata": {},
     "output_type": "display_data"
    },
    {
     "data": {
      "application/vnd.jupyter.widget-view+json": {
       "model_id": "",
       "version_major": 2,
       "version_minor": 0
      },
      "text/plain": [
       "HBox(children=(FloatProgress(value=0.0, max=30.0), HTML(value='')))"
      ]
     },
     "metadata": {},
     "output_type": "display_data"
    },
    {
     "data": {
      "application/vnd.jupyter.widget-view+json": {
       "model_id": "",
       "version_major": 2,
       "version_minor": 0
      },
      "text/plain": [
       "HBox(children=(FloatProgress(value=0.0, max=10.0), HTML(value='')))"
      ]
     },
     "metadata": {},
     "output_type": "display_data"
    },
    {
     "data": {
      "application/vnd.jupyter.widget-view+json": {
       "model_id": "",
       "version_major": 2,
       "version_minor": 0
      },
      "text/plain": [
       "HBox(children=(FloatProgress(value=0.0, max=30.0), HTML(value='')))"
      ]
     },
     "metadata": {},
     "output_type": "display_data"
    },
    {
     "data": {
      "application/vnd.jupyter.widget-view+json": {
       "model_id": "",
       "version_major": 2,
       "version_minor": 0
      },
      "text/plain": [
       "HBox(children=(FloatProgress(value=0.0, max=10.0), HTML(value='')))"
      ]
     },
     "metadata": {},
     "output_type": "display_data"
    },
    {
     "data": {
      "application/vnd.jupyter.widget-view+json": {
       "model_id": "",
       "version_major": 2,
       "version_minor": 0
      },
      "text/plain": [
       "HBox(children=(FloatProgress(value=0.0, max=30.0), HTML(value='')))"
      ]
     },
     "metadata": {},
     "output_type": "display_data"
    },
    {
     "data": {
      "application/vnd.jupyter.widget-view+json": {
       "model_id": "",
       "version_major": 2,
       "version_minor": 0
      },
      "text/plain": [
       "HBox(children=(FloatProgress(value=0.0, max=10.0), HTML(value='')))"
      ]
     },
     "metadata": {},
     "output_type": "display_data"
    },
    {
     "data": {
      "application/vnd.jupyter.widget-view+json": {
       "model_id": "",
       "version_major": 2,
       "version_minor": 0
      },
      "text/plain": [
       "HBox(children=(FloatProgress(value=0.0, max=30.0), HTML(value='')))"
      ]
     },
     "metadata": {},
     "output_type": "display_data"
    },
    {
     "data": {
      "application/vnd.jupyter.widget-view+json": {
       "model_id": "",
       "version_major": 2,
       "version_minor": 0
      },
      "text/plain": [
       "HBox(children=(FloatProgress(value=0.0, max=10.0), HTML(value='')))"
      ]
     },
     "metadata": {},
     "output_type": "display_data"
    }
   ],
   "source": [
    "model = XVectors(n_classes=len(classes), dropout_p=0.2)\n",
    "device = \"cuda\"\n",
    "optimiser = torch.optim.Adam(model.parameters(), lr=1e-4)\n",
    "scheduler = torch.optim.lr_scheduler.OneCycleLR(optimiser, max_lr=0.01, steps_per_epoch=len(train_dataloader), epochs=100)\n",
    "engine = Engine(model, device, optimiser, scheduler=scheduler, max_epochs=100, patience=10)\n",
    "engine.fit(train_dataloader, valid_dataloader)"
   ]
  },
  {
   "cell_type": "code",
   "execution_count": 22,
   "id": "cb8e0d8b",
   "metadata": {
    "ExecuteTime": {
     "end_time": "2021-06-07T00:43:11.725771Z",
     "start_time": "2021-06-07T00:43:11.229527Z"
    }
   },
   "outputs": [
    {
     "data": {
      "application/vnd.jupyter.widget-view+json": {
       "model_id": "",
       "version_major": 2,
       "version_minor": 0
      },
      "text/plain": [
       "HBox(children=(FloatProgress(value=0.0, max=10.0), HTML(value='')))"
      ]
     },
     "metadata": {},
     "output_type": "display_data"
    },
    {
     "data": {
      "text/plain": [
       "(0.9349735449735449, 0.9373015873015873)"
      ]
     },
     "execution_count": 22,
     "metadata": {},
     "output_type": "execute_result"
    }
   ],
   "source": [
    "test_probs = engine.predict_proba(test_dataloader)\n",
    "test_preds = np.argmax(test_probs, axis=1)\n",
    "metrics.f1_score(y_test, test_preds, average=\"weighted\"), metrics.accuracy_score(y_test, test_preds)"
   ]
  },
  {
   "cell_type": "code",
   "execution_count": 23,
   "id": "611aa7e8",
   "metadata": {
    "ExecuteTime": {
     "end_time": "2021-06-07T00:43:11.831496Z",
     "start_time": "2021-06-07T00:43:11.726769Z"
    }
   },
   "outputs": [
    {
     "data": {
      "image/png": "[encoded data removed]",
      "text/plain": [
       "<Figure size 1080x432 with 1 Axes>"
      ]
     },
     "metadata": {
      "needs_background": "light"
     },
     "output_type": "display_data"
    }
   ],
   "source": [
    "plt.figure(figsize=(15, 6))\n",
    "plt.plot(range(len(engine.train_losses)), engine.train_losses, label=\"train\")\n",
    "plt.plot(range(len(engine.valid_losses)), engine.valid_losses, label=\"valid\")\n",
    "plt.legend()\n",
    "plt.grid()\n",
    "plt.show()"
   ]
  },
  {
   "cell_type": "markdown",
   "id": "50e89987",
   "metadata": {},
   "source": [
    "## Model Training without Validation Dataset"
   ]
  },
  {
   "cell_type": "code",
   "execution_count": 24,
   "id": "9b05b0ec",
   "metadata": {
    "ExecuteTime": {
     "end_time": "2021-06-07T00:43:11.918688Z",
     "start_time": "2021-06-07T00:43:11.832494Z"
    }
   },
   "outputs": [],
   "source": [
    "train_valid_dataset = SpeechDataset(\n",
    "    X=np.concatenate((X_train, X_valid), axis=0), \n",
    "    y=np.concatenate((y_train, y_valid), axis=0)\n",
    ")\n",
    "train_valid_dataloader = train_valid_dataset.create_dataloader(batch_size=batch_size, shuffle=True)"
   ]
  },
  {
   "cell_type": "code",
   "execution_count": 25,
   "id": "0383f970",
   "metadata": {
    "ExecuteTime": {
     "end_time": "2021-06-07T00:43:17.567065Z",
     "start_time": "2021-06-07T00:43:11.919686Z"
    }
   },
   "outputs": [
    {
     "data": {
      "application/vnd.jupyter.widget-view+json": {
       "model_id": "0748a52b58df48a88c2f0e28ce1ab753",
       "version_major": 2,
       "version_minor": 0
      },
      "text/plain": [
       "HBox(children=(FloatProgress(value=0.0, max=40.0), HTML(value='')))"
      ]
     },
     "metadata": {},
     "output_type": "display_data"
    },
    {
     "name": "stdout",
     "output_type": "stream",
     "text": [
      "\n"
     ]
    },
    {
     "data": {
      "image/png": "[encoded data removed]",
      "text/plain": [
       "<Figure size 1080x360 with 1 Axes>"
      ]
     },
     "metadata": {
      "needs_background": "light"
     },
     "output_type": "display_data"
    }
   ],
   "source": [
    "model = XVectors(n_classes=len(classes), dropout_p=0.2)\n",
    "device = \"cuda\"\n",
    "optimiser = torch.optim.Adam(model.parameters(), lr=3e-3)\n",
    "engine = Engine(model, device, optimiser, scheduler=None, max_epochs=30)\n",
    "log_lrs, losses = engine.find_lr(train_valid_dataloader)\n",
    "\n",
    "plt.figure(figsize=(15, 5))\n",
    "plt.plot(log_lrs, losses)\n",
    "plt.xlabel(\"Base 10 Logarithm of Learning Rate\")\n",
    "plt.ylabel(\"Loss\")\n",
    "plt.grid()\n",
    "plt.show()"
   ]
  },
  {
   "cell_type": "code",
   "execution_count": 26,
   "id": "c5bb409e",
   "metadata": {
    "ExecuteTime": {
     "end_time": "2021-06-07T00:45:12.457040Z",
     "start_time": "2021-06-07T00:43:17.568062Z"
    }
   },
   "outputs": [
    {
     "data": {
      "application/vnd.jupyter.widget-view+json": {
       "model_id": "",
       "version_major": 2,
       "version_minor": 0
      },
      "text/plain": [
       "HBox(children=(FloatProgress(value=0.0, max=40.0), HTML(value='')))"
      ]
     },
     "metadata": {},
     "output_type": "display_data"
    },
    {
     "data": {
      "application/vnd.jupyter.widget-view+json": {
       "model_id": "",
       "version_major": 2,
       "version_minor": 0
      },
      "text/plain": [
       "HBox(children=(FloatProgress(value=0.0, max=40.0), HTML(value='')))"
      ]
     },
     "metadata": {},
     "output_type": "display_data"
    },
    {
     "data": {
      "application/vnd.jupyter.widget-view+json": {
       "model_id": "",
       "version_major": 2,
       "version_minor": 0
      },
      "text/plain": [
       "HBox(children=(FloatProgress(value=0.0, max=40.0), HTML(value='')))"
      ]
     },
     "metadata": {},
     "output_type": "display_data"
    },
    {
     "data": {
      "application/vnd.jupyter.widget-view+json": {
       "model_id": "",
       "version_major": 2,
       "version_minor": 0
      },
      "text/plain": [
       "HBox(children=(FloatProgress(value=0.0, max=40.0), HTML(value='')))"
      ]
     },
     "metadata": {},
     "output_type": "display_data"
    },
    {
     "data": {
      "application/vnd.jupyter.widget-view+json": {
       "model_id": "",
       "version_major": 2,
       "version_minor": 0
      },
      "text/plain": [
       "HBox(children=(FloatProgress(value=0.0, max=40.0), HTML(value='')))"
      ]
     },
     "metadata": {},
     "output_type": "display_data"
    },
    {
     "data": {
      "application/vnd.jupyter.widget-view+json": {
       "model_id": "",
       "version_major": 2,
       "version_minor": 0
      },
      "text/plain": [
       "HBox(children=(FloatProgress(value=0.0, max=40.0), HTML(value='')))"
      ]
     },
     "metadata": {},
     "output_type": "display_data"
    },
    {
     "data": {
      "application/vnd.jupyter.widget-view+json": {
       "model_id": "",
       "version_major": 2,
       "version_minor": 0
      },
      "text/plain": [
       "HBox(children=(FloatProgress(value=0.0, max=40.0), HTML(value='')))"
      ]
     },
     "metadata": {},
     "output_type": "display_data"
    },
    {
     "data": {
      "application/vnd.jupyter.widget-view+json": {
       "model_id": "",
       "version_major": 2,
       "version_minor": 0
      },
      "text/plain": [
       "HBox(children=(FloatProgress(value=0.0, max=40.0), HTML(value='')))"
      ]
     },
     "metadata": {},
     "output_type": "display_data"
    },
    {
     "data": {
      "application/vnd.jupyter.widget-view+json": {
       "model_id": "",
       "version_major": 2,
       "version_minor": 0
      },
      "text/plain": [
       "HBox(children=(FloatProgress(value=0.0, max=40.0), HTML(value='')))"
      ]
     },
     "metadata": {},
     "output_type": "display_data"
    },
    {
     "data": {
      "application/vnd.jupyter.widget-view+json": {
       "model_id": "",
       "version_major": 2,
       "version_minor": 0
      },
      "text/plain": [
       "HBox(children=(FloatProgress(value=0.0, max=40.0), HTML(value='')))"
      ]
     },
     "metadata": {},
     "output_type": "display_data"
    },
    {
     "data": {
      "application/vnd.jupyter.widget-view+json": {
       "model_id": "",
       "version_major": 2,
       "version_minor": 0
      },
      "text/plain": [
       "HBox(children=(FloatProgress(value=0.0, max=40.0), HTML(value='')))"
      ]
     },
     "metadata": {},
     "output_type": "display_data"
    },
    {
     "data": {
      "application/vnd.jupyter.widget-view+json": {
       "model_id": "",
       "version_major": 2,
       "version_minor": 0
      },
      "text/plain": [
       "HBox(children=(FloatProgress(value=0.0, max=40.0), HTML(value='')))"
      ]
     },
     "metadata": {},
     "output_type": "display_data"
    },
    {
     "data": {
      "application/vnd.jupyter.widget-view+json": {
       "model_id": "",
       "version_major": 2,
       "version_minor": 0
      },
      "text/plain": [
       "HBox(children=(FloatProgress(value=0.0, max=40.0), HTML(value='')))"
      ]
     },
     "metadata": {},
     "output_type": "display_data"
    },
    {
     "data": {
      "application/vnd.jupyter.widget-view+json": {
       "model_id": "",
       "version_major": 2,
       "version_minor": 0
      },
      "text/plain": [
       "HBox(children=(FloatProgress(value=0.0, max=40.0), HTML(value='')))"
      ]
     },
     "metadata": {},
     "output_type": "display_data"
    },
    {
     "data": {
      "application/vnd.jupyter.widget-view+json": {
       "model_id": "",
       "version_major": 2,
       "version_minor": 0
      },
      "text/plain": [
       "HBox(children=(FloatProgress(value=0.0, max=40.0), HTML(value='')))"
      ]
     },
     "metadata": {},
     "output_type": "display_data"
    },
    {
     "data": {
      "application/vnd.jupyter.widget-view+json": {
       "model_id": "",
       "version_major": 2,
       "version_minor": 0
      },
      "text/plain": [
       "HBox(children=(FloatProgress(value=0.0, max=40.0), HTML(value='')))"
      ]
     },
     "metadata": {},
     "output_type": "display_data"
    },
    {
     "data": {
      "application/vnd.jupyter.widget-view+json": {
       "model_id": "",
       "version_major": 2,
       "version_minor": 0
      },
      "text/plain": [
       "HBox(children=(FloatProgress(value=0.0, max=40.0), HTML(value='')))"
      ]
     },
     "metadata": {},
     "output_type": "display_data"
    },
    {
     "data": {
      "application/vnd.jupyter.widget-view+json": {
       "model_id": "",
       "version_major": 2,
       "version_minor": 0
      },
      "text/plain": [
       "HBox(children=(FloatProgress(value=0.0, max=40.0), HTML(value='')))"
      ]
     },
     "metadata": {},
     "output_type": "display_data"
    },
    {
     "data": {
      "application/vnd.jupyter.widget-view+json": {
       "model_id": "",
       "version_major": 2,
       "version_minor": 0
      },
      "text/plain": [
       "HBox(children=(FloatProgress(value=0.0, max=40.0), HTML(value='')))"
      ]
     },
     "metadata": {},
     "output_type": "display_data"
    },
    {
     "data": {
      "application/vnd.jupyter.widget-view+json": {
       "model_id": "",
       "version_major": 2,
       "version_minor": 0
      },
      "text/plain": [
       "HBox(children=(FloatProgress(value=0.0, max=40.0), HTML(value='')))"
      ]
     },
     "metadata": {},
     "output_type": "display_data"
    }
   ],
   "source": [
    "model = XVectors(n_classes=len(classes), dropout_p=0.2)\n",
    "device = \"cuda\"\n",
    "optimiser = torch.optim.Adam(model.parameters(), lr=1e-4)\n",
    "scheduler = torch.optim.lr_scheduler.OneCycleLR(optimiser, max_lr=0.01, steps_per_epoch=len(train_dataloader), epochs=100)\n",
    "engine = Engine(model, device, optimiser, scheduler=scheduler, max_epochs=20, patience=10)\n",
    "engine.fit(train_valid_dataloader)"
   ]
  },
  {
   "cell_type": "code",
   "execution_count": 27,
   "id": "3e2c0131",
   "metadata": {
    "ExecuteTime": {
     "end_time": "2021-06-07T00:45:12.569272Z",
     "start_time": "2021-06-07T00:45:12.458038Z"
    }
   },
   "outputs": [
    {
     "data": {
      "image/png": "[encoded data removed]",
      "text/plain": [
       "<Figure size 1080x432 with 1 Axes>"
      ]
     },
     "metadata": {
      "needs_background": "light"
     },
     "output_type": "display_data"
    }
   ],
   "source": [
    "plt.figure(figsize=(15, 6))\n",
    "plt.plot(range(len(engine.train_losses)), engine.train_losses, label=\"train\")\n",
    "plt.legend()\n",
    "plt.grid()\n",
    "plt.show()"
   ]
  },
  {
   "cell_type": "code",
   "execution_count": 28,
   "id": "2cce7fd7",
   "metadata": {
    "ExecuteTime": {
     "end_time": "2021-06-07T00:45:13.045509Z",
     "start_time": "2021-06-07T00:45:12.570271Z"
    }
   },
   "outputs": [
    {
     "data": {
      "application/vnd.jupyter.widget-view+json": {
       "model_id": "",
       "version_major": 2,
       "version_minor": 0
      },
      "text/plain": [
       "HBox(children=(FloatProgress(value=0.0, max=10.0), HTML(value='')))"
      ]
     },
     "metadata": {},
     "output_type": "display_data"
    },
    {
     "data": {
      "text/plain": [
       "(0.9698941798941798, 0.9714285714285714)"
      ]
     },
     "execution_count": 28,
     "metadata": {},
     "output_type": "execute_result"
    }
   ],
   "source": [
    "test_probs = engine.predict_proba(test_dataloader)\n",
    "test_preds = np.argmax(test_probs, axis=1)\n",
    "metrics.f1_score(y_test, test_preds, average=\"weighted\"), metrics.accuracy_score(y_test, test_preds)"
   ]
  },
  {
   "cell_type": "code",
   "execution_count": null,
   "id": "0d220451",
   "metadata": {},
   "outputs": [],
   "source": []
  }
 ],
 "metadata": {
  "kernelspec": {
   "display_name": "torch",
   "language": "python",
   "name": "torch"
  },
  "language_info": {
   "codemirror_mode": {
    "name": "ipython",
    "version": 3
   },
   "file_extension": ".py",
   "mimetype": "text/x-python",
   "name": "python",
   "nbconvert_exporter": "python",
   "pygments_lexer": "ipython3",
   "version": "3.7.3"
  },
  "toc": {
   "base_numbering": 1,
   "nav_menu": {},
   "number_sections": true,
   "sideBar": true,
   "skip_h1_title": false,
   "title_cell": "Table of Contents",
   "title_sidebar": "Contents",
   "toc_cell": false,
   "toc_position": {},
   "toc_section_display": true,
   "toc_window_display": true
  }
 },
 "nbformat": 4,
 "nbformat_minor": 5
}
