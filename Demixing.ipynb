{
 "metadata": {
  "language_info": {
   "codemirror_mode": {
    "name": "ipython",
    "version": 3
   },
   "file_extension": ".py",
   "mimetype": "text/x-python",
   "name": "python",
   "nbconvert_exporter": "python",
   "pygments_lexer": "ipython3",
   "version": "3.7.9"
  },
  "orig_nbformat": 2,
  "kernelspec": {
   "name": "python379jvsc74a57bd0e534e48711db4d1e1c48977d0d14ff85b1f16d41bcc4fdfd88268a329b3c9d66",
   "display_name": "Python 3.7.9 64-bit ('3.7')"
  },
  "metadata": {
   "interpreter": {
    "hash": "e534e48711db4d1e1c48977d0d14ff85b1f16d41bcc4fdfd88268a329b3c9d66"
   }
  }
 },
 "nbformat": 4,
 "nbformat_minor": 2,
 "cells": [
  {
   "cell_type": "code",
   "execution_count": 1,
   "metadata": {},
   "outputs": [],
   "source": [
    "import torch\n",
    "import torch.nn as nn"
   ]
  },
  {
   "cell_type": "code",
   "execution_count": 2,
   "metadata": {},
   "outputs": [],
   "source": [
    "speaker2 = torch.rand(4, 2, 4)\n",
    "mixtures = torch.rand(4, 2, 4)"
   ]
  },
  {
   "cell_type": "code",
   "execution_count": 3,
   "metadata": {},
   "outputs": [
    {
     "output_type": "execute_result",
     "data": {
      "text/plain": [
       "torch.Size([4, 2, 4])"
      ]
     },
     "metadata": {},
     "execution_count": 3
    }
   ],
   "source": [
    "class Sub(nn.Module):\n",
    "\n",
    "    def __init__(self, embed_dim):\n",
    "        super(Sub, self).__init__()\n",
    "        self.fc = nn.Linear(embed_dim, embed_dim)\n",
    "\n",
    "    def forward(self, mixtures, speaker2):\n",
    "        x = torch.subtract(mixtures, speaker2)\n",
    "        x = self.fc(x)\n",
    "        return x\n",
    "\n",
    "sub = Sub(4)\n",
    "sub(mixtures, speaker2).size()"
   ]
  },
  {
   "cell_type": "code",
   "execution_count": 4,
   "metadata": {},
   "outputs": [
    {
     "output_type": "execute_result",
     "data": {
      "text/plain": [
       "torch.Size([4, 2, 4])"
      ]
     },
     "metadata": {},
     "execution_count": 4
    }
   ],
   "source": [
    "class Mul(nn.Module):\n",
    "\n",
    "    def __init__(self, embed_dim):\n",
    "        super(Mul, self).__init__()\n",
    "        self.fc = nn.Linear(embed_dim, embed_dim)\n",
    "\n",
    "    def forward(self, mixtures, speaker2):\n",
    "        x = torch.mul(mixtures, speaker2)\n",
    "        x = self.fc(x)\n",
    "        return x\n",
    "\n",
    "mul = Mul(4)\n",
    "mul(mixtures, speaker2).size()"
   ]
  },
  {
   "cell_type": "code",
   "execution_count": 5,
   "metadata": {},
   "outputs": [
    {
     "output_type": "execute_result",
     "data": {
      "text/plain": [
       "torch.Size([4, 2, 4])"
      ]
     },
     "metadata": {},
     "execution_count": 5
    }
   ],
   "source": [
    "class Concat1(nn.Module):\n",
    "\n",
    "    def __init__(self, embed_dim):\n",
    "        super(Concat1, self).__init__()\n",
    "        self.fc = nn.Linear(2*embed_dim, embed_dim)\n",
    "\n",
    "    def forward(self, mixtures, speaker2):\n",
    "        x = torch.cat((mixtures, speaker2), axis=2)\n",
    "        x = self.fc(x)\n",
    "        return x\n",
    "\n",
    "concat1 = Concat1(4)\n",
    "concat1(mixtures, speaker2).size()"
   ]
  },
  {
   "cell_type": "code",
   "execution_count": 6,
   "metadata": {},
   "outputs": [
    {
     "output_type": "execute_result",
     "data": {
      "text/plain": [
       "torch.Size([4, 2, 4])"
      ]
     },
     "metadata": {},
     "execution_count": 6
    }
   ],
   "source": [
    "class Concat2(nn.Module):\n",
    "\n",
    "    def __init__(self, embed_dim):\n",
    "        super(Concat2, self).__init__()\n",
    "        self.fc1 = nn.Linear(2*embed_dim, embed_dim)\n",
    "        self.fc2 = nn.Linear(embed_dim, embed_dim)\n",
    "\n",
    "    def forward(self, mixtures, speaker2):\n",
    "        x = torch.cat((mixtures, speaker2), axis=2)\n",
    "        x = self.fc1(x)\n",
    "        x = nn.ReLU()(x)\n",
    "        x = self.fc2(x)\n",
    "        return x\n",
    "\n",
    "concat2 = Concat2(4)\n",
    "concat2(mixtures, speaker2).size()"
   ]
  },
  {
   "cell_type": "code",
   "execution_count": 7,
   "metadata": {},
   "outputs": [
    {
     "output_type": "execute_result",
     "data": {
      "text/plain": [
       "torch.Size([4, 2, 4])"
      ]
     },
     "metadata": {},
     "execution_count": 7
    }
   ],
   "source": [
    "class ShareConcat(nn.Module):\n",
    "\n",
    "    def __init__(self, embed_dim):\n",
    "        super(ShareConcat, self).__init__()\n",
    "        self.fc1 = nn.Linear(embed_dim, embed_dim)\n",
    "        self.fc2 = nn.Linear(2*embed_dim, embed_dim)\n",
    "\n",
    "    def forward(self, mixtures, speaker2):\n",
    "        mixtures = nn.ReLU()(self.fc1(mixtures))\n",
    "        speaker2 = nn.ReLU()(self.fc1(speaker2))\n",
    "        x = torch.cat((mixtures, speaker2), axis=2)\n",
    "        x = nn.ReLU()(x)\n",
    "        x = self.fc2(x)\n",
    "        return x\n",
    "\n",
    "share_concat = ShareConcat(4)\n",
    "share_concat(mixtures, speaker2).size()"
   ]
  },
  {
   "cell_type": "code",
   "execution_count": 8,
   "metadata": {},
   "outputs": [
    {
     "output_type": "execute_result",
     "data": {
      "text/plain": [
       "torch.Size([4, 2, 4])"
      ]
     },
     "metadata": {},
     "execution_count": 8
    }
   ],
   "source": [
    "class SeparateConcat(nn.Module):\n",
    "\n",
    "    def __init__(self, embed_dim):\n",
    "        super(SeparateConcat, self).__init__()\n",
    "        self.fc1 = nn.Linear(embed_dim, embed_dim)\n",
    "        self.fc2 = nn.Linear(embed_dim, embed_dim)\n",
    "        self.fc3 = nn.Linear(2*embed_dim, embed_dim)\n",
    "\n",
    "    def forward(self, mixtures, speaker2):\n",
    "        mixtures = nn.ReLU()(self.fc1(mixtures))\n",
    "        speaker2 = nn.ReLU()(self.fc2(speaker2))\n",
    "        x = torch.cat((mixtures, speaker2), axis=2)\n",
    "        x = nn.ReLU()(x)\n",
    "        x = self.fc3(x)\n",
    "        return x\n",
    "\n",
    "separate_concat = SeparateConcat(4)\n",
    "separate_concat(mixtures, speaker2).size()"
   ]
  },
  {
   "cell_type": "code",
   "execution_count": null,
   "metadata": {},
   "outputs": [],
   "source": []
  }
 ]
}